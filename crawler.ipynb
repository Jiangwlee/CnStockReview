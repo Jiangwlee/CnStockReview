{
 "cells": [
  {
   "cell_type": "markdown",
   "metadata": {},
   "source": [
    "# 连接数据库，初始化数据表"
   ]
  },
  {
   "cell_type": "code",
   "execution_count": 37,
   "metadata": {},
   "outputs": [],
   "source": [
    "import MySQLdb\n",
    "import requests\n",
    "import json\n",
    "import datetime\n",
    "import tushare as ts\n",
    "from bs4 import BeautifulSoup\n",
    "\n",
    "class MySQLManager:\n",
    "    def __init__(self):\n",
    "        # 打开数据库连接\n",
    "        self.db = MySQLdb.connect(\"192.168.56.103\", \"guest\", \"welcome\", \"guest\", charset='utf8' )\n",
    "        self.createTableZTSTOCKS()\n",
    "    \n",
    "    def close(self):\n",
    "        # 关闭数据库连接\n",
    "        self.db.close()\n",
    "        \n",
    "    def createTableZTSTOCKS(self):\n",
    "        # 使用cursor()方法获取操作游标 \n",
    "        cursor = self.db.cursor()\n",
    "\n",
    "        # 创建数据表SQL语句\n",
    "        sql = \"\"\"CREATE TABLE ZTSTOCKS (\n",
    "                 DATE date,\n",
    "                 STOCK_CODE CHAR(6) NOT NULL,\n",
    "                 STOCK_NAME VARCHAR(20),\n",
    "                 NOW_PRICE FLOAT,\n",
    "                 PRICE_LIMIT FLOAT,\n",
    "                 FCB FLOAT,\n",
    "                 FLB FLOAT,\n",
    "                 FB_MONEY FLOAT,\n",
    "                 FIRST_ZT_TIME TIME,\n",
    "                 LAST_ZT_TIME TIME,\n",
    "                 OPEN_TIME INT,\n",
    "                 ZHEN_FU FLOAT,\n",
    "                 ZT_FORCE FLOAT)\"\"\"\n",
    "        try:\n",
    "            cursor.execute(sql)\n",
    "        except:\n",
    "            self.db.rollback()\n",
    "        cursor.close()\n",
    "        \n",
    "    def insertIntoZTSTOCKS(self, records):\n",
    "        cursor = self.db.cursor()\n",
    "        #try:\n",
    "        for item in records:\n",
    "            sql = \"INSERT INTO ZTSTOCKS VALUES('%s','%s','%s',%s,%s,%s,%s,%s,'%s','%s',%s,%s,%s)\" % tuple(item)\n",
    "            #print(sql)\n",
    "            cursor.execute(sql)\n",
    "        self.db.commit()\n",
    "        #except:\n",
    "            #self.db.rollback()\n",
    "        cursor.close()\n",
    "    \n",
    "    # 返回数据库中最大的日期，返回值为datetime类型\n",
    "    def maxDate(self):\n",
    "        cursor = self.db.cursor()\n",
    "        cursor.execute(\"SELECT max(date) from ZTSTOCKS\")\n",
    "        maxdate = cursor.fetchone()[0]\n",
    "        if maxdate is None:\n",
    "            maxdate = datetime.date.today() - datetime.timedelta(days=60)\n",
    "        return maxdate"
   ]
  },
  {
   "cell_type": "markdown",
   "metadata": {},
   "source": [
    "# DataCrawler类，用来从相关网站上爬取财经数据"
   ]
  },
  {
   "cell_type": "code",
   "execution_count": 38,
   "metadata": {},
   "outputs": [
    {
     "name": "stdout",
     "output_type": "stream",
     "text": [
      "获取到1956条新的涨停板数据\n",
      "更新成功！上次更新日期为2018-05-18\n"
     ]
    }
   ],
   "source": [
    "class DataCrawler:\n",
    "    def __init__(self):\n",
    "        pass\n",
    "    \n",
    "    # 获取当日涨停板列表，参数：日期（20180507）\n",
    "    def get_ztb_list(self, date):\n",
    "        url = \"http://home.flashdata2.jrj.com.cn/limitStatistic/ztForce/%s.js\" % date\n",
    "        headers = {'user-agent':'User-Agent: Mozilla/5.0 (Windows NT 6.1; Win64; x64) AppleWebKit/537.36 (KHTML, like Gecko) Chrome/66.0.3359.181 Safari/537.36'}\n",
    "        resp = requests.get(url, headers=headers)\n",
    "        if resp.status_code != 200:\n",
    "            return []\n",
    "        raw_text = resp.text\n",
    "        jsonstr = raw_text[raw_text.find('[') : (raw_text.rfind(']') + 1)]\n",
    "        data = json.loads(jsonstr)\n",
    "        return data\n",
    "    \n",
    "    # 获取过去连续N天的涨停板列表\n",
    "    def crawl_ztb_of_last_n_days(self, n):\n",
    "        ret = []\n",
    "        date = datetime.date.today()\n",
    "        count = 0\n",
    "        while count < n:\n",
    "            ztb_list = self.get_ztb_list(date.strftime(\"%Y%m%d\"))\n",
    "            for item in ztb_list:\n",
    "                item.insert(0, date.isoformat())\n",
    "                ret.append(item)\n",
    "            date = date - datetime.timedelta(days=1)\n",
    "            count += 1\n",
    "        return ret\n",
    "\n",
    "# 将数据库中的数据更新至今天\n",
    "def updateStockDatabase():\n",
    "    mysqlManager = MySQLManager()\n",
    "    maxDateInDB = mysqlManager.maxDate()\n",
    "    deltaDate = datetime.date.today() - maxDateInDB\n",
    "\n",
    "    dc = DataCrawler()\n",
    "    result = dc.crawl_ztb_of_last_n_days(deltaDate.days)\n",
    "    if len(result) != 0:\n",
    "        print(\"获取到%d条新的涨停板数据\" % len(result))\n",
    "        mysqlManager.insertIntoZTSTOCKS(result)\n",
    "        print(\"更新成功！上次更新日期为%s\" % mysqlManager.maxDate())\n",
    "    else:\n",
    "        print(\"未找到新的涨停板数据，上次更新日期为%s\" % mysqlManager.maxDate())\n",
    "    mysqlManager.close()\n",
    "\n",
    "updateStockDatabase()"
   ]
  },
  {
   "cell_type": "code",
   "execution_count": null,
   "metadata": {},
   "outputs": [],
   "source": []
  }
 ],
 "metadata": {
  "kernelspec": {
   "display_name": "Python 3",
   "language": "python",
   "name": "python3"
  },
  "language_info": {
   "codemirror_mode": {
    "name": "ipython",
    "version": 3
   },
   "file_extension": ".py",
   "mimetype": "text/x-python",
   "name": "python",
   "nbconvert_exporter": "python",
   "pygments_lexer": "ipython3",
   "version": "3.6.4"
  }
 },
 "nbformat": 4,
 "nbformat_minor": 2
}
